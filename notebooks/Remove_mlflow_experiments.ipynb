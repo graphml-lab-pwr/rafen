{
 "cells": [
  {
   "cell_type": "code",
   "execution_count": null,
   "id": "366e3034",
   "metadata": {
    "pycharm": {
     "name": "#%%\n"
    }
   },
   "outputs": [],
   "source": [
    "import mlflow\n",
    "from tqdm.autonotebook import tqdm"
   ]
  },
  {
   "cell_type": "code",
   "execution_count": null,
   "id": "12ecf4f5",
   "metadata": {
    "pycharm": {
     "name": "#%%\n"
    }
   },
   "outputs": [],
   "source": [
    "mlflow.set_tracking_uri(\"http://localhost:5100\")\n",
    "mlflow.get_tracking_uri()"
   ]
  },
  {
   "cell_type": "code",
   "execution_count": null,
   "id": "0a004a84",
   "metadata": {
    "pycharm": {
     "name": "#%%\n"
    }
   },
   "outputs": [],
   "source": [
    "experiment = mlflow.get_experiment_by_name(\"fb-forum\")\n",
    "mlflow_runs = mlflow.search_runs(experiment_ids=[\"1\", \"2\", \"3\", \"4\", \"5\", \"6\"])"
   ]
  },
  {
   "cell_type": "code",
   "execution_count": null,
   "id": "12a09c8b",
   "metadata": {
    "pycharm": {
     "name": "#%%\n"
    }
   },
   "outputs": [],
   "source": [
    "mlflow_runs[\n",
    "    mlflow_runs[\"tags.mlflow.source.name\"].str.contains(\"ablation_study.py\")\n",
    "]"
   ]
  },
  {
   "cell_type": "code",
   "execution_count": null,
   "id": "b44fe360",
   "metadata": {
    "pycharm": {
     "name": "#%%\n"
    }
   },
   "outputs": [],
   "source": [
    "for run_id in tqdm(\n",
    "    mlflow_runs[\n",
    "        mlflow_runs[\"tags.mlflow.source.name\"].str.contains(\"ablation_study.py\")\n",
    "    ].run_id.values\n",
    "):\n",
    "    mlflow.delete_run(run_id)"
   ]
  }
 ],
 "metadata": {
  "kernelspec": {
   "display_name": "Python 3 (ipykernel)",
   "language": "python",
   "name": "python3"
  },
  "language_info": {
   "codemirror_mode": {
    "name": "ipython",
    "version": 3
   },
   "file_extension": ".py",
   "mimetype": "text/x-python",
   "name": "python",
   "nbconvert_exporter": "python",
   "pygments_lexer": "ipython3",
   "version": "3.9.7"
  }
 },
 "nbformat": 4,
 "nbformat_minor": 5
}