{
 "cells": [
  {
   "cell_type": "code",
   "execution_count": null,
   "id": "0a3c72f4",
   "metadata": {},
   "outputs": [],
   "source": [
    "import sys\n",
    "sys.path.append('../')\n",
    "import pandas as pd\n",
    "\n",
    "\n",
    "from dynalign.experiments.defaults import DATASETS, L2_ALIGNERS\n",
    "from dynalign.experiments.parsers import MetricsParser"
   ]
  },
  {
   "cell_type": "code",
   "execution_count": null,
   "id": "a76dfcf2",
   "metadata": {},
   "outputs": [],
   "source": [
    "mp = MetricsParser(aligners=L2_ALIGNERS)\n",
    "df = pd.DataFrame(mp.parse())"
   ]
  },
  {
   "cell_type": "code",
   "execution_count": null,
   "id": "bda96a6f",
   "metadata": {},
   "outputs": [],
   "source": [
    "ds_ratios = {}\n",
    "\n",
    "for dataset in DATASETS:\n",
    "\n",
    "    ds_df = df[(df.dataset == dataset)]\n",
    "\n",
    "    n2v_loss_fitered_df = ds_df[\n",
    "        (ds_df.metric == \"n2v_loss\")\n",
    "        & (ds_df.epoch == ds_df.epoch.max())\n",
    "        & (ds_df.snapshot < ds_df.snapshot.max())\n",
    "    ]\n",
    "\n",
    "    l2_loss_fitered_df = ds_df[\n",
    "        (ds_df.metric == \"alignment_loss\")\n",
    "        & (ds_df.epoch == ds_df.epoch.max())\n",
    "        & (ds_df.snapshot < ds_df.snapshot.max())\n",
    "    ]\n",
    "\n",
    "    losses_ratio = n2v_loss_fitered_df.groupby([\"snapshot\", \"epoch\"]).mean().drop(\n",
    "        \"run\", axis=1\n",
    "    ) / l2_loss_fitered_df.groupby([\"snapshot\", \"epoch\"]).mean().drop(\"run\", axis=1)\n",
    "\n",
    "    ds_ratios[dataset] = {\n",
    "        \"mean\": losses_ratio.dropna().mean().item(),\n",
    "        \"std\": losses_ratio.dropna().std().item(),\n",
    "    }"
   ]
  },
  {
   "cell_type": "code",
   "execution_count": null,
   "id": "cbab5826",
   "metadata": {},
   "outputs": [],
   "source": [
    "pd.DataFrame.from_dict(ds_ratios)"
   ]
  }
 ],
 "metadata": {
  "kernelspec": {
   "display_name": "Python 3 (ipykernel)",
   "language": "python",
   "name": "python3"
  },
  "language_info": {
   "codemirror_mode": {
    "name": "ipython",
    "version": 3
   },
   "file_extension": ".py",
   "mimetype": "text/x-python",
   "name": "python",
   "nbconvert_exporter": "python",
   "pygments_lexer": "ipython3",
   "version": "3.9.11"
  }
 },
 "nbformat": 4,
 "nbformat_minor": 5
}
