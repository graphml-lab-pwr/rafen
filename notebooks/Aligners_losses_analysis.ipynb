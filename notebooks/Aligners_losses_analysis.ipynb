{
 "cells": [
  {
   "cell_type": "code",
   "execution_count": null,
   "id": "e0c521c0",
   "metadata": {},
   "outputs": [],
   "source": [
    "import sys\n",
    "sys.path.append('../')"
   ]
  },
  {
   "cell_type": "code",
   "execution_count": null,
   "id": "e091c48e",
   "metadata": {},
   "outputs": [],
   "source": [
    "import pandas as pd\n",
    "import plotly.express as px\n",
    "from ipywidgets import interact\n",
    "from matplotlib import pyplot as plt\n",
    "\n",
    "\n",
    "from dynalign.experiments.defaults import DATASETS, L2_ALIGNERS, NODE2VEC, BASE_L2_ALIGNER\n",
    "from dynalign.experiments.parsers import MetricsParser\n",
    "\n",
    "plt.rcParams[\"figure.dpi\"] = 300"
   ]
  },
  {
   "cell_type": "code",
   "execution_count": null,
   "id": "a4013bb8",
   "metadata": {},
   "outputs": [],
   "source": [
    "mp = MetricsParser(aligners=L2_ALIGNERS)\n",
    "df = pd.DataFrame(mp.parse())"
   ]
  },
  {
   "cell_type": "code",
   "execution_count": null,
   "id": "f2f93af6",
   "metadata": {},
   "outputs": [],
   "source": [
    "@interact\n",
    "def plot_n2v_losses(dataset=DATASETS) -> None:\n",
    "    plt.figure(figsize=(16, 9))\n",
    "    ds_df = df[(df.dataset == dataset)]\n",
    "    fitered_df = ds_df[\n",
    "        (ds_df.metric == \"n2v_loss\")\n",
    "        & (ds_df.epoch == ds_df.epoch.max())\n",
    "        & (ds_df.snapshot < ds_df.snapshot.max())\n",
    "    ]\n",
    "    fig = px.box(\n",
    "        data_frame = fitered_df,\n",
    "        x=\"snapshot\",\n",
    "        y=\"value\",\n",
    "        color=\"aligner\",\n",
    "    )\n",
    "    fig.show()"
   ]
  }
 ],
 "metadata": {
  "kernelspec": {
   "display_name": "Python 3 (ipykernel)",
   "language": "python",
   "name": "python3"
  },
  "language_info": {
   "codemirror_mode": {
    "name": "ipython",
    "version": 3
   },
   "file_extension": ".py",
   "mimetype": "text/x-python",
   "name": "python",
   "nbconvert_exporter": "python",
   "pygments_lexer": "ipython3",
   "version": "3.9.11"
  }
 },
 "nbformat": 4,
 "nbformat_minor": 5
}
