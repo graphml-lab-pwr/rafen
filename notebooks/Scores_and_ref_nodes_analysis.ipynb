{
 "cells": [
  {
   "cell_type": "code",
   "execution_count": null,
   "id": "4718dd14",
   "metadata": {},
   "outputs": [],
   "source": [
    "import sys\n",
    "sys.path.append('../')"
   ]
  },
  {
   "cell_type": "code",
   "execution_count": null,
   "id": "dd9b89e6",
   "metadata": {},
   "outputs": [],
   "source": [
    "import os\n",
    "\n",
    "import numpy as np\n",
    "import pandas as pd\n",
    "\n",
    "from dynalign.aligners import selectors as dynalign_selectors"
   ]
  },
  {
   "cell_type": "code",
   "execution_count": null,
   "id": "2d318bc8",
   "metadata": {},
   "outputs": [],
   "source": [
    "from copy import deepcopy"
   ]
  },
  {
   "cell_type": "code",
   "execution_count": null,
   "id": "97b77c70",
   "metadata": {},
   "outputs": [],
   "source": [
    "paths = {\"graphs\": \"../data/graphs/\"}"
   ]
  },
  {
   "cell_type": "code",
   "execution_count": null,
   "id": "4b803e1a",
   "metadata": {},
   "outputs": [],
   "source": [
    "graphs = {\n",
    "    graph_name.replace(\".pkl\", \"\"): pd.read_pickle(\n",
    "        os.path.join(paths[\"graphs\"], graph_name)\n",
    "    )\n",
    "    for graph_name in os.listdir(paths[\"graphs\"])\n",
    "    if \".pkl\" in graph_name\n",
    "}\n",
    "graphs = {\n",
    "    k: v[k] for k,v in graphs.items()\n",
    "}"
   ]
  },
  {
   "cell_type": "markdown",
   "id": "51c4f22a",
   "metadata": {},
   "source": [
    "# Get all scores and ref_nodes"
   ]
  },
  {
   "cell_type": "code",
   "execution_count": null,
   "id": "cdd4d8a6",
   "metadata": {},
   "outputs": [],
   "source": [
    "from collections import defaultdict\n",
    "from typing import Dict, Any\n",
    "\n",
    "from tqdm.autonotebook import tqdm\n",
    "\n",
    "from dynalign.aligners.selectors import get_reference_nodes"
   ]
  },
  {
   "cell_type": "code",
   "execution_count": null,
   "id": "478e9b81",
   "metadata": {},
   "outputs": [],
   "source": [
    "def prepare_selector_args(\n",
    "    percent: float, log_normalization: bool = False\n",
    ") -> Dict[str, Any]:\n",
    "    args = {\n",
    "        \"selection_method\": \"percent\",\n",
    "        \"selection_method_args\": {\"percent\": percent},\n",
    "    }\n",
    "    if log_normalization:\n",
    "        args[\"selection_method_args\"][\"log_norm_scores\"] = True\n",
    "    return args"
   ]
  },
  {
   "cell_type": "code",
   "execution_count": null,
   "id": "21102e03",
   "metadata": {},
   "outputs": [],
   "source": [
    "def get_all_ref_nodes_and_scores(\n",
    "    snapshots, selector, cache, percentages, log_normalization: bool = False\n",
    "):\n",
    "\n",
    "    selector_scores = []\n",
    "    selector_scores_mapped = []\n",
    "    reference_nodes = defaultdict(list)\n",
    "    for snapshot_id, snapshot in tqdm(enumerate(snapshots[1:-1]), leave=False):\n",
    "        _, __, scores, scores_mapped = get_reference_nodes(\n",
    "            selector=selector,\n",
    "            selector_args=prepare_selector_args(\n",
    "                percent=1.0, log_normalization=log_normalization\n",
    "            ),\n",
    "            graph=snapshot,\n",
    "            reference_graph=snapshots[0],\n",
    "            reverse_node_index_mapping=None,\n",
    "            cache=cache[snapshot_id + 1] if cache else None,\n",
    "        )\n",
    "        selector_scores.append(scores)\n",
    "        selector_scores_mapped.append(scores_mapped)\n",
    "        for percent in tqdm(percentages, leave=False):\n",
    "            ref_nodes, _, __, ___ = get_reference_nodes(\n",
    "                selector=selector,\n",
    "                selector_args=prepare_selector_args(\n",
    "                    percent=percent, log_normalization=log_normalization\n",
    "                ),\n",
    "                graph=snapshot,\n",
    "                reference_graph=snapshots[0],\n",
    "                reverse_node_index_mapping=None,\n",
    "                cache=cache[snapshot_id + 1] if cache else None,\n",
    "            )\n",
    "            reference_nodes[percent].append(ref_nodes)\n",
    "\n",
    "    return selector_scores, selector_scores_mapped, reference_nodes"
   ]
  },
  {
   "cell_type": "code",
   "execution_count": null,
   "id": "13e3c708",
   "metadata": {},
   "outputs": [],
   "source": [
    "percentages = np.arange(0.1, 1.0, 0.1)\n",
    "selectors_cls = [\n",
    "    \"dynalign.aligners.selectors.EdgeJaccardNodesSelector\",\n",
    "#     \"dynalign.aligners.selectors.TemporalCentralityMeasureSelector\",\n",
    "]"
   ]
  },
  {
   "cell_type": "code",
   "execution_count": null,
   "id": "e549ffe9",
   "metadata": {},
   "outputs": [],
   "source": [
    "all_selector_scores = {}\n",
    "all_selector_scores_scaled = {}\n",
    "all_selector_ref_nodes = {}\n",
    "\n",
    "\n",
    "for ds in tqdm(graphs.keys()):\n",
    "    ds_graphs = graphs[ds][\"graphs\"]\n",
    "    temporal_selectors_cache = {\n",
    "        k: pd.read_pickle(\n",
    "            os.path.join(f\"../data/cached/temporal_scores/{k}/\", f\"{ds}.pkl\")\n",
    "        )\n",
    "        for k in [\"betweenness\"]\n",
    "    }\n",
    "\n",
    "    ds_selector_scores = {}\n",
    "    ds_selector_scores_scaled = {}\n",
    "    ds_selector_ref_nodes = {}\n",
    "\n",
    "    for selector in tqdm(selectors_cls, leave=False):\n",
    "        selector_name = selector.split(\".\")[-1]\n",
    "        (\n",
    "            selector_scores,\n",
    "            selector_scores_scaled,\n",
    "            reference_nodes,\n",
    "        ) = get_all_ref_nodes_and_scores(\n",
    "            snapshots=ds_graphs,\n",
    "            selector=selector,\n",
    "            percentages=percentages,\n",
    "            cache=None,\n",
    "        )\n",
    "        ds_selector_scores[selector_name] = selector_scores\n",
    "        ds_selector_scores_scaled[selector_name] = selector_scores_scaled\n",
    "        ds_selector_ref_nodes[selector_name] = reference_nodes\n",
    "\n",
    "    for selector_name, cache in tqdm(temporal_selectors_cache.items(), leave=False):\n",
    "        (\n",
    "            selector_scores,\n",
    "            selector_scores_scaled,\n",
    "            reference_nodes,\n",
    "        ) = get_all_ref_nodes_and_scores(\n",
    "            snapshots=ds_graphs,\n",
    "            selector=\"dynalign.aligners.selectors.TemporalCentralityMeasureSelector\",\n",
    "            percentages=percentages,\n",
    "            cache=cache,\n",
    "            log_normalization=True,\n",
    "        )\n",
    "        ds_selector_scores[selector_name] = selector_scores\n",
    "        ds_selector_scores_scaled[selector_name] = selector_scores_scaled\n",
    "        ds_selector_ref_nodes[selector_name] = reference_nodes\n",
    "\n",
    "    all_selector_scores[ds] = ds_selector_scores\n",
    "    all_selector_scores_scaled[ds] = ds_selector_scores_scaled\n",
    "    all_selector_ref_nodes[ds] = ds_selector_ref_nodes"
   ]
  },
  {
   "cell_type": "code",
   "execution_count": null,
   "id": "71d29a86",
   "metadata": {},
   "outputs": [],
   "source": [
    "import pickle"
   ]
  },
  {
   "cell_type": "code",
   "execution_count": null,
   "id": "177cfc26",
   "metadata": {},
   "outputs": [],
   "source": [
    "with open(\"ref_nodes.pkl\", \"wb\") as f:\n",
    "    pickle.dump(obj=all_selector_ref_nodes, file=f)"
   ]
  },
  {
   "cell_type": "code",
   "execution_count": null,
   "id": "bb9549a3",
   "metadata": {},
   "outputs": [],
   "source": [
    "all_selector_ref_nodes['bitcoin-alpha']['betweenness'].keys()"
   ]
  },
  {
   "cell_type": "markdown",
   "id": "6141a770",
   "metadata": {},
   "source": [
    "# Analysis"
   ]
  },
  {
   "cell_type": "code",
   "execution_count": null,
   "id": "ebba3574",
   "metadata": {},
   "outputs": [],
   "source": [
    "ds = \"ogbl-collab\""
   ]
  },
  {
   "cell_type": "code",
   "execution_count": null,
   "id": "d534a6f0",
   "metadata": {},
   "outputs": [],
   "source": [
    "def calculate_jaccard_index(ref_nodes_a, ref_nodes_b):\n",
    "    ref_nodes_a = set(list(ref_nodes_a))\n",
    "    ref_nodes_b = set(list(ref_nodes_b))\n",
    "        \n",
    "    return len(ref_nodes_a.intersection(ref_nodes_b)) / len(\n",
    "        ref_nodes_a.union(ref_nodes_b)\n",
    "    )\n",
    "\n",
    "\n",
    "def calculate_all_jaccard_indices(snapshot_ref_nodes_a, snapshot_ref_nodes_b):\n",
    "    jaccard_indices = []\n",
    "    for ref_nodes_a, ref_nodes_b in zip(snapshot_ref_nodes_a, snapshot_ref_nodes_b):\n",
    "#         import pdb; pdb.set_trace()\n",
    "        jaccard_indices.append(calculate_jaccard_index(ref_nodes_a, ref_nodes_b))\n",
    "\n",
    "    return jaccard_indices"
   ]
  },
  {
   "cell_type": "code",
   "execution_count": null,
   "id": "e0d0eb22",
   "metadata": {},
   "outputs": [],
   "source": [
    "jaccard_index = defaultdict(dict)\n",
    "\n",
    "for selector_a in tqdm(selectors, leave=False):\n",
    "    selector_a_ref_nodes = all_selector_ref_nodes[ds][selector_a]\n",
    "    for selector_b in tqdm(selectors, leave=False):\n",
    "        selector_b_ref_nodes = all_selector_ref_nodes[ds][selector_b]\n",
    "        for percent in tqdm(percentages, leave=False):\n",
    "            if selector_b not in jaccard_index[selector_a]:\n",
    "                jaccard_index[selector_a][selector_b] = {}\n",
    "                \n",
    "            jaccard_index[selector_a][selector_b][\n",
    "                percent\n",
    "            ] = calculate_all_jaccard_indices(\n",
    "                selector_a_ref_nodes[percent], selector_b_ref_nodes[percent]\n",
    "            )"
   ]
  },
  {
   "cell_type": "code",
   "execution_count": null,
   "id": "a4943352",
   "metadata": {
    "scrolled": false
   },
   "outputs": [],
   "source": [
    "import pandas as pd\n",
    "\n",
    "for percent in percentages:\n",
    "    display(percent)\n",
    "    df = pd.DataFrame.from_dict(jaccard_index).applymap(\n",
    "        lambda x: (np.mean(x[percent]), np.std(x[percent]))\n",
    "    ).applymap(lambda y: (np.round(y[0], 3), np.round(y[1], 3)))\n",
    "    display(df)"
   ]
  },
  {
   "cell_type": "markdown",
   "id": "bd5553dc",
   "metadata": {},
   "source": [
    "# Scale problem"
   ]
  },
  {
   "cell_type": "code",
   "execution_count": null,
   "id": "fe429862",
   "metadata": {},
   "outputs": [],
   "source": [
    "import matplotlib.pyplot as plt"
   ]
  },
  {
   "cell_type": "code",
   "execution_count": null,
   "id": "9aae9612",
   "metadata": {},
   "outputs": [],
   "source": [
    "plt.hist(list(ds_selector_scores['betweenness'][0].values()))"
   ]
  },
  {
   "cell_type": "code",
   "execution_count": null,
   "id": "2bfd3efb",
   "metadata": {
    "scrolled": true
   },
   "outputs": [],
   "source": [
    "plt.hist(list(ds_selector_scores['betweenness'][0].values()))"
   ]
  },
  {
   "cell_type": "code",
   "execution_count": null,
   "id": "0d25cb44",
   "metadata": {},
   "outputs": [],
   "source": [
    "plt.hist(ds_selector_scores_scaled['betweenness'][0].numpy())"
   ]
  },
  {
   "cell_type": "code",
   "execution_count": null,
   "id": "d1fff690",
   "metadata": {},
   "outputs": [],
   "source": [
    "selector = selectors[\"FILDNE\"]"
   ]
  },
  {
   "cell_type": "code",
   "execution_count": null,
   "id": "9cf2932e",
   "metadata": {},
   "outputs": [],
   "source": [
    "def flip_scores(scores_dict):\n",
    "    max_value = np.max(list(scores_dict.values()))\n",
    "    print(max_value)\n",
    "    return {\n",
    "        node: 1 - (node_score / max_value) for node, node_score in scores_dict.items()\n",
    "    }"
   ]
  },
  {
   "cell_type": "code",
   "execution_count": null,
   "id": "f5b35104",
   "metadata": {},
   "outputs": [],
   "source": [
    "ref_nodes, scores_dict = selector.select(\n",
    "    ds_graphs[0], ds_graphs[1], cache=None\n",
    ")"
   ]
  },
  {
   "cell_type": "code",
   "execution_count": null,
   "id": "a1fd3891",
   "metadata": {},
   "outputs": [],
   "source": [
    "plt.hist(list(scores_dict.values()))"
   ]
  },
  {
   "cell_type": "code",
   "execution_count": null,
   "id": "4bb6531d",
   "metadata": {},
   "outputs": [],
   "source": [
    "ref_nodes"
   ]
  }
 ],
 "metadata": {
  "kernelspec": {
   "display_name": "Python 3 (ipykernel)",
   "language": "python",
   "name": "python3"
  },
  "language_info": {
   "codemirror_mode": {
    "name": "ipython",
    "version": 3
   },
   "file_extension": ".py",
   "mimetype": "text/x-python",
   "name": "python",
   "nbconvert_exporter": "python",
   "pygments_lexer": "ipython3",
   "version": "3.9.11"
  }
 },
 "nbformat": 4,
 "nbformat_minor": 5
}
