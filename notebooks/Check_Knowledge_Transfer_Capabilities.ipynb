{
 "cells": [
  {
   "cell_type": "markdown",
   "id": "1191ba3d",
   "metadata": {},
   "source": [
    "### Code"
   ]
  },
  {
   "cell_type": "code",
   "execution_count": null,
   "id": "8eb25aba",
   "metadata": {},
   "outputs": [],
   "source": [
    "import sys\n",
    "\n",
    "sys.path.append(\"../\")\n",
    "\n",
    "from typing import Literal\n",
    "\n",
    "import numpy as np\n",
    "import pandas as pd\n",
    "from IPython.display import Markdown\n",
    "from ipywidgets import interact\n",
    "from tqdm.auto import tqdm\n",
    "\n",
    "\n",
    "from dynalign.experiments.paths import KNOWLEDGE_TRANSFER_STUDY_PATH\n",
    "from dynalign.experiments.defaults import DATASETS"
   ]
  },
  {
   "cell_type": "code",
   "execution_count": null,
   "id": "d103fde8",
   "metadata": {},
   "outputs": [],
   "source": [
    "def get_results_table(\n",
    "    df: pd.DataFrame,\n",
    "    dataset: str,\n",
    "    evaluation_snapshot: Literal[\"prev\", \"current\", \"next\"],\n",
    ") -> pd.DataFrame:\n",
    "    parsed_data = {}\n",
    "    df = df[df.dataset == dataset].drop(\"dataset\", axis=1)\n",
    "    for snapshot_id in df.snapshot_id.unique():\n",
    "        snapshot_df = df[df.snapshot_id == snapshot_id].drop(\"snapshot_id\", axis=1)\n",
    "        snapshot_df = snapshot_df[\n",
    "            snapshot_df.evaluation_snapshot == evaluation_snapshot\n",
    "        ].drop(\"evaluation_snapshot\", axis=1)\n",
    "        snapshot_df = snapshot_df.groupby(\"method\").agg([\"mean\"]).drop(\"run\", axis=1)\n",
    "        snapshot_df = (snapshot_df).round(\n",
    "            2\n",
    "        )  # / snapshot_df.loc[\"Node2Vec\"] * 100).round(2)\n",
    "        parsed_data[snapshot_id] = snapshot_df[\"auc\"][\"mean\"].to_dict()\n",
    "\n",
    "    parsed_df = pd.DataFrame(parsed_data)\n",
    "    parsed_df.columns.name = \"snapshot\"\n",
    "    return parsed_df"
   ]
  },
  {
   "cell_type": "code",
   "execution_count": null,
   "id": "1160f3c7",
   "metadata": {},
   "outputs": [],
   "source": [
    "df = pd.DataFrame(pd.read_pickle(KNOWLEDGE_TRANSFER_STUDY_PATH))"
   ]
  },
  {
   "cell_type": "markdown",
   "id": "816d8ebf",
   "metadata": {},
   "source": [
    "### Tables with results"
   ]
  },
  {
   "cell_type": "code",
   "execution_count": null,
   "id": "3c6faa8f",
   "metadata": {},
   "outputs": [],
   "source": [
    "@interact\n",
    "def display_result_tables(ds=df.dataset.unique()):\n",
    "    for evaluation_snapshot in (\"prev\", \"current\", \"next\"):\n",
    "        display(Markdown(evaluation_snapshot))\n",
    "        display(\n",
    "            get_results_table(\n",
    "                df=df, dataset=ds, evaluation_snapshot=evaluation_snapshot\n",
    "            ).style.highlight_max()\n",
    "        )"
   ]
  },
  {
   "cell_type": "markdown",
   "id": "52598cbd",
   "metadata": {},
   "source": [
    "### Plots"
   ]
  },
  {
   "cell_type": "code",
   "execution_count": null,
   "id": "7b1b34f5",
   "metadata": {},
   "outputs": [],
   "source": [
    "import plotly.graph_objects as go\n",
    "from plotly.subplots import make_subplots\n",
    "from plotly.colors import qualitative"
   ]
  },
  {
   "cell_type": "code",
   "execution_count": null,
   "id": "b3ad899a",
   "metadata": {},
   "outputs": [],
   "source": [
    "methods_to_plot = [\"Node2Vec\", \"Node2VecAligned_L2_ALL\", \"PosthocALL\"]"
   ]
  },
  {
   "cell_type": "code",
   "execution_count": null,
   "id": "4c7b2f2b",
   "metadata": {
    "scrolled": false
   },
   "outputs": [],
   "source": [
    "fig = make_subplots(rows=2, cols=len(DATASETS), subplot_titles=DATASETS)\n",
    "\n",
    "for plot_row_id, evaluation_snapshot in enumerate((\"prev\", \"next\")):\n",
    "\n",
    "    for plot_column_id, ds in enumerate(DATASETS):\n",
    "\n",
    "        data = get_results_table(\n",
    "            df, dataset=ds, evaluation_snapshot=evaluation_snapshot\n",
    "        ).T[methods_to_plot]\n",
    "\n",
    "        for method_id, (method_name, method_df) in enumerate(data.T.iterrows()):\n",
    "            fig.add_trace(\n",
    "                go.Scatter(\n",
    "                    x=method_df.index,\n",
    "                    y=method_df.values,\n",
    "                    mode=\"markers\",\n",
    "                    name=method_name,\n",
    "                    marker={\n",
    "                        \"symbol\": [\"circle\", \"diamond\", \"square\"][method_id],\n",
    "                        \"size\": 20,\n",
    "                        \"color\": qualitative.Set2[\n",
    "                            method_id\n",
    "                        ],  # split('(')[1].split(')')[0]},0.5)\",\n",
    "                    },\n",
    "                    opacity=1,\n",
    "                    showlegend=not bool(plot_column_id) and plot_row_id == 0,\n",
    "                ),\n",
    "                row=plot_row_id + 1,\n",
    "                col=plot_column_id + 1,\n",
    "            )\n",
    "\n",
    "fig.show()"
   ]
  }
 ],
 "metadata": {
  "kernelspec": {
   "display_name": "Python 3 (ipykernel)",
   "language": "python",
   "name": "python3"
  },
  "language_info": {
   "codemirror_mode": {
    "name": "ipython",
    "version": 3
   },
   "file_extension": ".py",
   "mimetype": "text/x-python",
   "name": "python",
   "nbconvert_exporter": "python",
   "pygments_lexer": "ipython3",
   "version": "3.9.11"
  }
 },
 "nbformat": 4,
 "nbformat_minor": 5
}
