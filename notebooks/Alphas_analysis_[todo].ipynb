{
 "cells": [
  {
   "cell_type": "code",
   "execution_count": null,
   "id": "b46dd419",
   "metadata": {},
   "outputs": [],
   "source": [
    "import sys\n",
    "\n",
    "sys.path.append(\"../\")\n",
    "\n",
    "import numpy as np\n",
    "import pandas as pd\n",
    "from dynalign.experiments.paths import LP_EVALUATION_RESULTS, PREV_EXPERIMENTS_PATH\n",
    "from pathlib import Path\n",
    "from typing import List, Dict, Any, Union, Tuple\n",
    "from collections import defaultdict\n",
    "\n",
    "\n",
    "def get_dirs_from_path(\n",
    "    path: Path, only_files_with_extension: str = \"\", glob: str = \"\"\n",
    ") -> List[Path]:\n",
    "    if only_files_with_extension:\n",
    "        return list(path.glob(f\"*{only_files_with_extension}\"))\n",
    "    elif glob:\n",
    "        return list(path.glob(f\"{glob}\"))\n",
    "    else:\n",
    "        return [it for it in path.iterdir() if \".gitignore\" not in str(it)]\n",
    "\n",
    "\n",
    "DF_COLUMNS_TO_AGGREGATION = [\"run\", \"embeddings_aggregation\"]\n",
    "\n",
    "def convert_float_to_str(x: float) -> str:\n",
    "    return f\"{x:.2f}\"\n",
    "\n",
    "\n",
    "def percentage_style(\n",
    "    x: Union[float, Tuple[float, float]]\n",
    ") -> Union[float, Tuple[float, float]]:\n",
    "    \"\"\"Percantage style fn.\"\"\"\n",
    "    if isinstance(x, float):\n",
    "        return round(x * 100, 2)\n",
    "    elif isinstance(x, tuple):\n",
    "        return round(x[0] * 100, 2), round(x[1] * 100, 2)\n",
    "    raise ValueError(\"X parsing error\")\n",
    "\n",
    "\n",
    "def highlight_max(x: pd.Series) -> List[str]:\n",
    "    values = [it[0] if it else 0 for it in x.values]\n",
    "    max_id = np.argmax(values)\n",
    "\n",
    "    output = []\n",
    "    for i in range(len(x)):\n",
    "        if i == max_id:\n",
    "            output.append(\"color:red\")\n",
    "        else:\n",
    "            output.append(\"\")\n",
    "    return output"
   ]
  },
  {
   "cell_type": "code",
   "execution_count": null,
   "id": "784b2b3d",
   "metadata": {},
   "outputs": [],
   "source": [
    "def aggregate_aligner_results_last_snapshot(\n",
    "    df: pd.DataFrame, metric_name: str, precision: float = 3\n",
    ") -> pd.DataFrame:\n",
    "    df_columns_to_aggregation = [*DF_COLUMNS_TO_AGGREGATION, metric_name]\n",
    "    df_columns_to_remove = set(df.columns).difference(set(df_columns_to_aggregation))\n",
    "    df = df[df.prediction_snapshot == df.prediction_snapshot.max()].copy()\n",
    "    df = df.drop(df_columns_to_remove, axis=1)\n",
    "    df = (\n",
    "        df.groupby(by=[\"embeddings_aggregation\"])\n",
    "        .agg((\"mean\", \"std\"))\n",
    "        .drop(\"run\", axis=1)\n",
    "    )\n",
    "\n",
    "    df = df.apply(\n",
    "        lambda x: (\n",
    "            round(x[metric_name][\"mean\"], precision),\n",
    "            round(x[metric_name][\"std\"], precision),\n",
    "        ),\n",
    "        axis=1,\n",
    "    )\n",
    "    return df.to_dict()\n",
    "\n",
    "\n",
    "def aggreagte_all_results_last_snapshot(\n",
    "    paths: str, metric_name: str, precision: float = 3\n",
    "):\n",
    "    results = defaultdict(dict)\n",
    "    for method_results_path in paths:\n",
    "        method_name = method_results_path.name\n",
    "        method_ds_results_paths = get_dirs_from_path(\n",
    "            method_results_path, only_files_with_extension=\".pkl\"\n",
    "        )\n",
    "\n",
    "        for method_ds_results_path in method_ds_results_paths:\n",
    "            ds_name = method_ds_results_path.name.replace(\".pkl\", \"\")\n",
    "            results[ds_name][method_name] = aggregate_aligner_results_last_snapshot(\n",
    "                df=pd.read_pickle(method_ds_results_path),\n",
    "                metric_name=metric_name,\n",
    "                precision=3,\n",
    "            )\n",
    "\n",
    "    return results\n",
    "\n",
    "\n",
    "\n",
    "def get_alpha_results_dataframe_last_snapshot(\n",
    "    results: Dict[str, Any]\n",
    ") -> Dict[str, Any]:\n",
    "    agg_results = defaultdict(dict)\n",
    "    for ds in results.keys():\n",
    "        for method in results[ds].keys():\n",
    "            result = results[ds][method]\n",
    "            alpha = f'0.{method.split(\"alpha_\")[-1].split(\"0\")[-1]}'\n",
    "            for aggregation_method, aggregation_results in result.items():\n",
    "                agg_results[aggregation_method].update({\n",
    "                    (ds, alpha): aggregation_results\n",
    "                })\n",
    "\n",
    "    return agg_results\n"
   ]
  },
  {
   "cell_type": "code",
   "execution_count": null,
   "id": "42225e29",
   "metadata": {},
   "outputs": [],
   "source": [
    "prev_paths"
   ]
  },
  {
   "cell_type": "code",
   "execution_count": null,
   "id": "7fc2a2c3",
   "metadata": {},
   "outputs": [],
   "source": [
    "prev_paths = get_dirs_from_path(PREV_EXPERIMENTS_PATH / \"evaluation\" / \"lp\", glob=\"*alpha*\")\n",
    "prev_results = aggreagte_all_results_last_snapshot(\n",
    "    prev_paths, metric_name=\"auc\", precision=3\n",
    ")\n",
    "df_last_snapshot = get_alpha_results_dataframe_last_snapshot(prev_results)"
   ]
  },
  {
   "cell_type": "code",
   "execution_count": null,
   "id": "70f5d722",
   "metadata": {},
   "outputs": [],
   "source": [
    "pd.DataFrame(df_last_snapshot)"
   ]
  },
  {
   "cell_type": "code",
   "execution_count": null,
   "id": "b1201ec5",
   "metadata": {},
   "outputs": [],
   "source": [
    "df_last_snapshot.index"
   ]
  },
  {
   "cell_type": "code",
   "execution_count": null,
   "id": "825c3747",
   "metadata": {},
   "outputs": [],
   "source": [
    "pd.DataFrame(prev_results)"
   ]
  },
  {
   "cell_type": "code",
   "execution_count": null,
   "id": "cb553b0f",
   "metadata": {},
   "outputs": [],
   "source": [
    "order = [\n",
    "    \"Node2Vec\",\n",
    "    \"PosthocALL\",\n",
    "    \"PosthocEJ\",\n",
    "    \"PosthocTB\",\n",
    "    \"Node2VecAligned_L2_ALL\",\n",
    "    \"Node2VecAligned_L2_EJ\",\n",
    "    \"Node2VecAligned_L2_EJ_Weighted\",\n",
    "    \"Node2VecAligned_L2_TB\",\n",
    "    \"Node2VecAligned_L2_TB_Weighted\",\n",
    "]\n",
    "order_prev = [\n",
    "    \"PosthocALL\",\n",
    "    \"PosthocEJ\",\n",
    "    \"PosthocTB\",\n",
    "    \"Node2VecAligned_L2_ALL\",\n",
    "    \"Node2VecAligned_L2_EJ\",\n",
    "    \"Node2VecAligned_L2_TB\",\n",
    "    \"Node2VecAligned_L2_TB_Weighted\",\n",
    "]"
   ]
  },
  {
   "cell_type": "code",
   "execution_count": null,
   "id": "67dbf20c",
   "metadata": {
    "scrolled": false
   },
   "outputs": [],
   "source": [
    "for ds in agg_results.keys():\n",
    "    print(ds)\n",
    "    ds_df = pd.DataFrame.from_dict(agg_results[ds]).T\n",
    "    display(ds_df.loc[order].style.apply(highlight_max))"
   ]
  }
 ],
 "metadata": {
  "kernelspec": {
   "display_name": "Python 3 (ipykernel)",
   "language": "python",
   "name": "python3"
  },
  "language_info": {
   "codemirror_mode": {
    "name": "ipython",
    "version": 3
   },
   "file_extension": ".py",
   "mimetype": "text/x-python",
   "name": "python",
   "nbconvert_exporter": "python",
   "pygments_lexer": "ipython3",
   "version": "3.9.11"
  }
 },
 "nbformat": 4,
 "nbformat_minor": 5
}
