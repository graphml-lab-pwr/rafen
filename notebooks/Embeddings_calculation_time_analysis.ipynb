{
 "cells": [
  {
   "cell_type": "code",
   "execution_count": null,
   "id": "212f31cb",
   "metadata": {},
   "outputs": [],
   "source": [
    "import sys\n",
    "sys.path.append('../')\n",
    "\n",
    "import pandas as pd\n",
    "\n",
    "from dynalign.experiments.defaults import DATASETS, ALL_ALIGNERS, POSTHOC_ALIGNERS\n",
    "from dynalign.experiments.parsers import MetricsParser"
   ]
  },
  {
   "cell_type": "code",
   "execution_count": null,
   "id": "860777f9",
   "metadata": {},
   "outputs": [],
   "source": [
    "mp = MetricsParser(aligners=ALL_ALIGNERS)\n",
    "df = pd.DataFrame(mp.parse())"
   ]
  },
  {
   "cell_type": "code",
   "execution_count": null,
   "id": "614c53b7",
   "metadata": {},
   "outputs": [],
   "source": [
    "sub_df = df[(df.metric == \"calculation_time\")].drop([\"epoch\", \"metric\"], axis=1)\n",
    "\n",
    "\n",
    "with pd.option_context(\"display.max_rows\", 1000):\n",
    "    times_df = (\n",
    "        sub_df[sub_df.aligner != \"Node2Vec\"]\n",
    "        .groupby([\"aligner\", \"dataset\", \"snapshot\"])\n",
    "        .agg(\"mean\")\n",
    "        .groupby([\"aligner\", \"dataset\"])\n",
    "        .agg(\"sum\")\n",
    "        .drop(\"run\", axis=1)\n",
    "    )\n",
    "    display(times_df)"
   ]
  },
  {
   "cell_type": "code",
   "execution_count": null,
   "id": "9a9edfee",
   "metadata": {},
   "outputs": [],
   "source": [
    "node2vec_times = (\n",
    "    sub_df[sub_df.aligner == \"Node2Vec\"]\n",
    "    .drop([\"aligner\"], axis=1)\n",
    "    .groupby([\"dataset\", \"snapshot\"])\n",
    "    .agg(\"mean\")\n",
    "    .drop(\"run\", axis=1)\n",
    "    .reset_index()\n",
    "\n",
    ")\n",
    "node2vec_times = (\n",
    "    node2vec_times[node2vec_times.snapshot != 0]\n",
    "    .groupby(\"dataset\")\n",
    "    .agg(\"sum\")\n",
    "    .drop(\"snapshot\", axis=1)\n",
    ")\n",
    "node2vec_times"
   ]
  },
  {
   "cell_type": "code",
   "execution_count": null,
   "id": "a44ad4ee",
   "metadata": {},
   "outputs": [],
   "source": [
    "times_df = times_df.reset_index().pivot(\n",
    "    columns=[\"dataset\"], index=[\"aligner\"], values=\"value\"\n",
    ")\n",
    "\n",
    "for aligner in POSTHOC_ALIGNERS:\n",
    "    times_df.loc[aligner] = times_df.loc[aligner] + node2vec_times.value\n",
    "    \n",
    "times_df[\"total\"] = times_df.sum(axis=1)\n",
    "times_df.sort_values(by=\"total\")"
   ]
  }
 ],
 "metadata": {
  "kernelspec": {
   "display_name": "Python 3 (ipykernel)",
   "language": "python",
   "name": "python3"
  },
  "language_info": {
   "codemirror_mode": {
    "name": "ipython",
    "version": 3
   },
   "file_extension": ".py",
   "mimetype": "text/x-python",
   "name": "python",
   "nbconvert_exporter": "python",
   "pygments_lexer": "ipython3",
   "version": "3.9.11"
  }
 },
 "nbformat": 4,
 "nbformat_minor": 5
}
